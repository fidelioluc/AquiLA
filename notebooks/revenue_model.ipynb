{
 "cells": [
  {
   "cell_type": "code",
   "execution_count": 1,
   "metadata": {},
   "outputs": [],
   "source": [
    "import pandas as pd \n",
    "import numpy as np \n",
    "import matplotlib.pyplot as plt\n",
    "from sklearn.preprocessing import OneHotEncoder, StandardScaler\n",
    "from sklearn.model_selection import train_test_split\n",
    "from sklearn.metrics import mean_squared_error, r2_score, mean_absolute_error\n",
    "from sklearn.ensemble import RandomForestRegressor\n"
   ]
  },
  {
   "cell_type": "markdown",
   "metadata": {},
   "source": [
    "Load Original Dataset and Split into Price Categories "
   ]
  },
  {
   "cell_type": "code",
   "execution_count": 2,
   "metadata": {},
   "outputs": [],
   "source": [
    "#drop Venue and EventID\n",
    "df = pd.read_csv(\"data/complete/ticket_sales.csv\").drop([\"Venue\", \"EventId\"], axis=1)\n",
    "\n",
    "#create new target variable Revenue \n",
    "df[\"Revenue\"] = df[\"Booked Tickets\"] * df[\"AVG Price\"]\n",
    "\n",
    "#remove some of the Price cateogories \n",
    "df = df[~df[\"Price Category\"].isin([\"Gehbehinderte\", \"Rollstuhlfahrer*in\", \"Rollstuhlfahrer:in\", \"Rollstuhlfahrer*in Begleitung\", \"Sehbehinderte\", \"Rollstuhlfahrer Begleitung\", \"Rollstuhlfahrer\", \"Gehörlose\", \"Gastbereich\"   ])]\n",
    "\n",
    "\n",
    "#Split the Dataset into the different Price Categories \n",
    "categories = df[\"Price Category\"].unique()\n",
    "\n",
    "split_datasets = {category: df[df[\"Price Category\"] == category] for category in categories}\n"
   ]
  },
  {
   "cell_type": "markdown",
   "metadata": {},
   "source": [
    "Load kat1 Price Category as an Example "
   ]
  },
  {
   "cell_type": "code",
   "execution_count": 3,
   "metadata": {},
   "outputs": [],
   "source": [
    "#drop Price Category as a feature and reomve the year from the competition \n",
    "dfkat1 = pd.read_csv(\"data/category/kat1.csv\").drop([\"Price Category\"], axis=1) \n",
    "dfkat1['Competition'] = dfkat1['Competition'].str.replace(r'\\s+\\d{4}/\\d{2}', '', regex=True).str.strip()\n"
   ]
  },
  {
   "cell_type": "markdown",
   "metadata": {},
   "source": [
    "Encode Features "
   ]
  },
  {
   "cell_type": "code",
   "execution_count": 4,
   "metadata": {},
   "outputs": [
    {
     "name": "stderr",
     "output_type": "stream",
     "text": [
      "C:\\Users\\fidel\\AppData\\Local\\Temp\\ipykernel_8812\\4247438290.py:21: UserWarning: Could not infer format, so each element will be parsed individually, falling back to `dateutil`. To ensure parsing is consistent and as-expected, please specify a format.\n",
      "  final_df['Kick-off Time'] = pd.to_datetime(final_df['Kick-off Time'])\n"
     ]
    }
   ],
   "source": [
    "# One-Hot Encoding for Competition and EventName\n",
    "encoder = OneHotEncoder(sparse_output=False)\n",
    "columns_to_encode = ['Competition', 'EventName']\n",
    "encoded_data = encoder.fit_transform(dfkat1[columns_to_encode])\n",
    "encoded_column_names = encoder.get_feature_names_out(columns_to_encode)\n",
    "encoded_df = pd.DataFrame(encoded_data, columns=encoded_column_names)\n",
    "\n",
    "\n",
    "final_df = pd.concat([\n",
    "    dfkat1.drop(columns=columns_to_encode), \n",
    "    encoded_df,  \n",
    "], axis=1)\n",
    "\n",
    "\n",
    "#Encode the features of the Time/Date\n",
    "final_df['Date'] = pd.to_datetime(final_df['Date'])\n",
    "final_df['Year'] = final_df['Date'].dt.year\n",
    "final_df['Month'] = final_df['Date'].dt.month\n",
    "final_df['DayOfWeek'] = final_df['Date'].dt.dayofweek  # 0 = Monday, 6 = Sunday\n",
    "\n",
    "final_df['Kick-off Time'] = pd.to_datetime(final_df['Kick-off Time'])\n",
    "final_df['Hour'] = final_df['Kick-off Time'].dt.hour\n",
    "final_df['Minute'] = final_df['Kick-off Time'].dt.minute\n",
    "\n",
    "final_df = final_df.dropna()\n"
   ]
  },
  {
   "cell_type": "markdown",
   "metadata": {},
   "source": [
    "Train-Test Split"
   ]
  },
  {
   "cell_type": "code",
   "execution_count": 5,
   "metadata": {},
   "outputs": [],
   "source": [
    "X = final_df.drop(columns=[\"Revenue\", \"Date\", \"Kick-off Time\", \"AVG Price\", \"Booked Tickets\"])  # Drop Target Variable as well as all other features not available at time of prediction \n",
    "Y = final_df[\"Revenue\"]  # Target variable\n",
    "\n",
    "X_train, X_test, Y_train, Y_test = train_test_split(X, Y, test_size=0.2, random_state=42)\n",
    "\n",
    "scaler = StandardScaler()\n",
    "X_train_scaled = scaler.fit_transform(X_train)\n",
    "X_test_scaled = scaler.transform(X_test)"
   ]
  },
  {
   "cell_type": "markdown",
   "metadata": {},
   "source": [
    "Train a Baseline Model"
   ]
  },
  {
   "cell_type": "code",
   "execution_count": 6,
   "metadata": {},
   "outputs": [],
   "source": [
    "model = RandomForestRegressor()\n",
    "model.fit(X_train, Y_train)\n",
    "\n",
    "y_pred = model.predict(X_test)"
   ]
  },
  {
   "cell_type": "markdown",
   "metadata": {},
   "source": [
    "Evaluate the Model "
   ]
  },
  {
   "cell_type": "code",
   "execution_count": 7,
   "metadata": {},
   "outputs": [
    {
     "name": "stdout",
     "output_type": "stream",
     "text": [
      "Mean Absolut: 32741.499596084992\n",
      "Mean Squared Error: 1412839944.3193462\n",
      "R-squared Score: 0.8480326776059302\n",
      "\n",
      "Feature Importances:\n",
      "                                              feature  importance\n",
      "43                                               Year    0.212753\n",
      "41   EventName_FC Midtjylland vs. Eintracht Frankfurt    0.091709\n",
      "46                                               Hour    0.084899\n",
      "42  EventName_Olympique Lyonnais vs. Eintracht Fra...    0.076923\n",
      "0                              Competition_Bundesliga    0.073641\n",
      "44                                              Month    0.068518\n",
      "3           Competition_UEFA Europa Conference League    0.066523\n",
      "5           EventName_AS Roma vs. Eintracht Frankfurt    0.062818\n",
      "45                                          DayOfWeek    0.052260\n",
      "4                      Competition_UEFA Europa League    0.045990\n",
      "6       EventName_Beşiktaş JK vs. Eintracht Frankfurt    0.035672\n",
      "47                                             Minute    0.031052\n",
      "22  EventName_Eintracht Frankfurt vs. Ferencvárosi TC    0.017353\n",
      "21  EventName_Eintracht Frankfurt vs. FC Viktoria ...    0.011720\n",
      "15  EventName_Eintracht Frankfurt vs. Borussia Mön...    0.006635\n",
      "14  EventName_Eintracht Frankfurt vs. Borussia Dor...    0.005659\n",
      "31  EventName_Eintracht Frankfurt vs. SK Slavia Praha    0.005602\n",
      "28          EventName_Eintracht Frankfurt vs. PAOK FC    0.005567\n",
      "32       EventName_Eintracht Frankfurt vs. SSC Napoli    0.004935\n",
      "10  EventName_Eintracht Frankfurt vs. 1. FC Union ...    0.003941\n",
      "1                               Competition_DFB-Pokal    0.003925\n",
      "2                   Competition_UEFA Champions League    0.003908\n",
      "16      EventName_Eintracht Frankfurt vs. FC Augsburg    0.003884\n",
      "33  EventName_Eintracht Frankfurt vs. SV Darmstadt 98    0.003770\n",
      "17  EventName_Eintracht Frankfurt vs. FC Bayern Mü...    0.003237\n",
      "29  EventName_Eintracht Frankfurt vs. PFC Levski S...    0.002926\n",
      "11  EventName_Eintracht Frankfurt vs. 1. FSV Mainz 05    0.002005\n",
      "30      EventName_Eintracht Frankfurt vs. SC Freiburg    0.001950\n",
      "7   EventName_Eintracht Frankfurt vs. 1. FC Heiden...    0.001746\n",
      "39  EventName_Eintracht Frankfurt vs. VfL Bochum 1848    0.001708\n",
      "9        EventName_Eintracht Frankfurt vs. 1. FC Köln    0.001361\n",
      "38    EventName_Eintracht Frankfurt vs. VfB Stuttgart    0.001349\n",
      "12      EventName_Eintracht Frankfurt vs. Aberdeen FC    0.000966\n",
      "40    EventName_Eintracht Frankfurt vs. VfL Wolfsburg    0.000584\n",
      "26          EventName_Eintracht Frankfurt vs. Leipzig    0.000537\n",
      "36   EventName_Eintracht Frankfurt vs. TSG Hoffenheim    0.000535\n",
      "37  EventName_Eintracht Frankfurt vs. Tottenham Ho...    0.000462\n",
      "19    EventName_Eintracht Frankfurt vs. FC Schalke 04    0.000298\n",
      "18           EventName_Eintracht Frankfurt vs. FC RFS    0.000235\n",
      "34  EventName_Eintracht Frankfurt vs. SV Werder Br...    0.000122\n",
      "25    EventName_Eintracht Frankfurt vs. Holstein Kiel    0.000120\n",
      "20     EventName_Eintracht Frankfurt vs. FC St. Pauli    0.000117\n",
      "27  EventName_Eintracht Frankfurt vs. Olympique de...    0.000082\n",
      "8   EventName_Eintracht Frankfurt vs. 1. FC Heiden...    0.000000\n",
      "13  EventName_Eintracht Frankfurt vs. Bayer 04 Lev...    0.000000\n",
      "23     EventName_Eintracht Frankfurt vs. HJK Helsinki    0.000000\n",
      "24       EventName_Eintracht Frankfurt vs. Hertha BSC    0.000000\n",
      "35  EventName_Eintracht Frankfurt vs. Sporting Clu...    0.000000\n"
     ]
    },
    {
     "data": {
      "image/png": "[encoded data removed]",
      "text/plain": [
       "<Figure size 1000x600 with 1 Axes>"
      ]
     },
     "metadata": {},
     "output_type": "display_data"
    }
   ],
   "source": [
    "mse = mean_squared_error(Y_test, y_pred)\n",
    "r2 = r2_score(Y_test, y_pred)\n",
    "mae = mean_absolute_error(Y_test, y_pred)\n",
    "\n",
    "print(\"Mean Absolut:\", mae)\n",
    "print(\"Mean Squared Error:\", mse)\n",
    "print(\"R-squared Score:\", r2)\n",
    "\n",
    "\n",
    "#Print feature importances\n",
    "feature_importance = pd.DataFrame({\n",
    "    'feature': X.columns,\n",
    "   'importance': model.feature_importances_\n",
    "})\n",
    "print(\"\\nFeature Importances:\")\n",
    "print(feature_importance.sort_values('importance', ascending=False))\n",
    "\n",
    "# Optional: Scatter plot of predicted vs actual Revenue \n",
    "plt.figure(figsize=(10,6))\n",
    "plt.scatter(Y_test, y_pred)\n",
    "plt.plot([Y_test.min(), Y_test.max()], [Y_test.min(), Y_test.max()], 'r--', lw=2)\n",
    "plt.xlabel('Actual Revenue')\n",
    "plt.ylabel('Predicted Revenue')\n",
    "plt.title('Actual vs Predicted Revenue')\n",
    "plt.show()"
   ]
  },
  {
   "cell_type": "markdown",
   "metadata": {},
   "source": [
    "Test Max Revenue Scenario "
   ]
  },
  {
   "cell_type": "code",
   "execution_count": 8,
   "metadata": {},
   "outputs": [],
   "source": [
    "max_game = pd.DataFrame({col: [0] for col in [\n",
    "    'Competition_Bundesliga', \n",
    "    'Competition_DFB-Pokal', \n",
    "    'Competition_UEFA Champions League', \n",
    "    'Competition_UEFA Europa Conference League', \n",
    "    'Competition_UEFA Europa League', \n",
    "    'EventName_AS Roma vs. Eintracht Frankfurt', \n",
    "    'EventName_Beşiktaş JK vs. Eintracht Frankfurt', \n",
    "    'EventName_Eintracht Frankfurt vs. 1. FC Heidenheim', \n",
    "    'EventName_Eintracht Frankfurt vs. 1. FC Heidenheim 1846', \n",
    "    'EventName_Eintracht Frankfurt vs. 1. FC Köln', \n",
    "    'EventName_Eintracht Frankfurt vs. 1. FC Union Berlin', \n",
    "    'EventName_Eintracht Frankfurt vs. 1. FSV Mainz 05', \n",
    "    'EventName_Eintracht Frankfurt vs. Aberdeen FC', \n",
    "    'EventName_Eintracht Frankfurt vs. Bayer 04 Leverkusen', \n",
    "    'EventName_Eintracht Frankfurt vs. Borussia Dortmund', \n",
    "    'EventName_Eintracht Frankfurt vs. Borussia Mönchengladbach', \n",
    "    'EventName_Eintracht Frankfurt vs. FC Augsburg', \n",
    "    'EventName_Eintracht Frankfurt vs. FC Bayern München', \n",
    "    'EventName_Eintracht Frankfurt vs. FC RFS', \n",
    "    'EventName_Eintracht Frankfurt vs. FC Schalke 04', \n",
    "    'EventName_Eintracht Frankfurt vs. FC St. Pauli', \n",
    "    'EventName_Eintracht Frankfurt vs. FC Viktoria Plzeň', \n",
    "    'EventName_Eintracht Frankfurt vs. Ferencvárosi TC', \n",
    "    'EventName_Eintracht Frankfurt vs. HJK Helsinki', \n",
    "    'EventName_Eintracht Frankfurt vs. Hertha BSC', \n",
    "    'EventName_Eintracht Frankfurt vs. Holstein Kiel', \n",
    "    'EventName_Eintracht Frankfurt vs. Leipzig', \n",
    "    'EventName_Eintracht Frankfurt vs. Olympique de Marseille', \n",
    "    'EventName_Eintracht Frankfurt vs. PAOK FC', \n",
    "    'EventName_Eintracht Frankfurt vs. PFC Levski Sofia', \n",
    "    'EventName_Eintracht Frankfurt vs. SC Freiburg', \n",
    "    'EventName_Eintracht Frankfurt vs. SK Slavia Praha', \n",
    "    'EventName_Eintracht Frankfurt vs. SSC Napoli', \n",
    "    'EventName_Eintracht Frankfurt vs. SV Darmstadt 98', \n",
    "    'EventName_Eintracht Frankfurt vs. SV Werder Bremen', \n",
    "    'EventName_Eintracht Frankfurt vs. Sporting Clube de Portugal', \n",
    "    'EventName_Eintracht Frankfurt vs. TSG Hoffenheim', \n",
    "    'EventName_Eintracht Frankfurt vs. Tottenham Hotspur', \n",
    "    'EventName_Eintracht Frankfurt vs. VfB Stuttgart', \n",
    "    'EventName_Eintracht Frankfurt vs. VfL Bochum 1848', \n",
    "    'EventName_Eintracht Frankfurt vs. VfL Wolfsburg',  \n",
    "    'EventName_FC Midtjylland vs. Eintracht Frankfurt', \n",
    "    'EventName_Olympique Lyonnais vs. Eintracht Frankfurt',\n",
    "    'Year',\n",
    "    'Month',\n",
    "    'DayOfWeek',\n",
    "    'Hour',\n",
    "    'Minute'\n",
    "]})\n",
    "\n",
    "max_game['Competition_Bundesliga'] = 1  \n",
    "max_game['EventName_Eintracht Frankfurt vs. FC Bayern München'] = 1\n",
    "\n",
    "max_game['Year'] = 2034\n",
    "max_game['Month'] = 5\n",
    "max_game['DayOfWeek'] = 5\n",
    "max_game['Hour'] = 20  \n",
    "max_game['Minute'] = 30  \n",
    "\n",
    "\n"
   ]
  },
  {
   "cell_type": "code",
   "execution_count": 11,
   "metadata": {},
   "outputs": [
    {
     "name": "stdout",
     "output_type": "stream",
     "text": [
      "[337970.33996786]\n"
     ]
    }
   ],
   "source": [
    "y_predmax = model.predict(max_game)\n",
    "\n",
    "print(y_predmax)"
   ]
  },
  {
   "cell_type": "code",
   "execution_count": 10,
   "metadata": {},
   "outputs": [
    {
     "name": "stdout",
     "output_type": "stream",
     "text": [
      "[48.28147714]\n"
     ]
    }
   ],
   "source": [
    "average_price = y_predmax/7000\n",
    "\n",
    "print(average_price)"
   ]
  },
  {
   "cell_type": "markdown",
   "metadata": {},
   "source": [
    "# Negatives \n",
    "-> Season Ticket Holder vs Single Game tickets \n",
    "-> No dynamic pricing \n",
    "-> Data does not indicate demand for a game \n",
    "-> How many people wanted to buy tickets vs how many people bought tickets \n",
    "-> No correlations to other factors such as weather \n",
    "-> Encoding of the individual opponents is not so great since each opponents is only played maximum of about 4 times  \n",
    "-> No information about how fast Tickets are sold which would indicate a higher demand \n",
    "\n",
    "# Positives \n",
    "-> Good validity with almost no assumptions \n",
    "-> simple "
   ]
  }
 ],
 "metadata": {
  "kernelspec": {
   "display_name": "Python 3",
   "language": "python",
   "name": "python3"
  },
  "language_info": {
   "codemirror_mode": {
    "name": "ipython",
    "version": 3
   },
   "file_extension": ".py",
   "mimetype": "text/x-python",
   "name": "python",
   "nbconvert_exporter": "python",
   "pygments_lexer": "ipython3",
   "version": "3.11.9"
  }
 },
 "nbformat": 4,
 "nbformat_minor": 2
}
